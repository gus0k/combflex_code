{
 "cells": [
  {
   "cell_type": "code",
   "execution_count": 1,
   "metadata": {},
   "outputs": [],
   "source": [
    "import pandas as pd\n",
    "import glob\n",
    "import numpy as np\n",
    "\n",
    "import matplotlib as mpl\n",
    "mpl.use('pgf')\n",
    "mpl.rcParams.update({\n",
    "    \"pgf.texsystem\": \"pdflatex\",\n",
    "    'font.family': 'serif',\n",
    "    'text.usetex': True,\n",
    "    'pgf.rcfonts': False,\n",
    "})\n",
    "from copy import deepcopy\n",
    "import matplotlib.pyplot as plt\n"
   ]
  },
  {
   "cell_type": "code",
   "execution_count": 2,
   "metadata": {},
   "outputs": [],
   "source": [
    "def fix_hist_step_vertical_line_at_end(ax):\n",
    "    axpolygons = [poly for poly in ax.get_children() if isinstance(poly, mpl.patches.Polygon)]\n",
    "    for poly in axpolygons:\n",
    "        poly.set_xy(poly.get_xy()[:-1])"
   ]
  },
  {
   "cell_type": "code",
   "execution_count": 3,
   "metadata": {},
   "outputs": [],
   "source": [
    "filter_sim = {\n",
    "    'sim_dec_1-flexible-yes-none-combflex' : 'Combflex 1-0',\n",
    "    'sim_dec_1-flexible-yes-none-combflex_split': 'Combflex S 1-0',\n",
    "    'sim_dec_1-flexible-yes-none-combflex-0.5-0.5': 'Combflex .5-.5',\n",
    "    'sim_dec_1-flexible-yes-none-combflex_split-0.5-0.5': 'Combflex S .5-.5',\n",
    "    'sim_dec_1-long-yes-ismarket-huang': 'Auction H',\n",
    "    'sim_dec_1-long-yes-ismarket-muda': 'Auction M',\n",
    "    'sim_dec_1-short-none-ismarket-p2p': 'P2P',\n",
    "}"
   ]
  },
  {
   "cell_type": "code",
   "execution_count": 4,
   "metadata": {},
   "outputs": [],
   "source": [
    "results_cost = {\n",
    " 'Combflex 1-0': [],\n",
    " 'Combflex S 1-0': [],\n",
    " 'Combflex .5-.5': [],\n",
    " 'Combflex S .5-.5': [],\n",
    " 'Auction H': [],\n",
    " 'Auction M': [],\n",
    " 'P2P': []\n",
    "}\n",
    "\n",
    "results_autocons = deepcopy(results_cost)"
   ]
  },
  {
   "cell_type": "code",
   "execution_count": 5,
   "metadata": {},
   "outputs": [],
   "source": [
    "filename_list = glob.glob('/home/guso/Outputs/combflex/*.csv')\n",
    "N = len(filename_list)"
   ]
  },
  {
   "cell_type": "code",
   "execution_count": 6,
   "metadata": {},
   "outputs": [],
   "source": [
    "for filename in filename_list:\n",
    "\n",
    "    df = pd.read_csv(filename)\n",
    "\n",
    "    OAC = df[df['1'] == 'Optimal Auto-consumtion'].iloc[0, 3]\n",
    "    OAG = df[df['1'] == 'Optimal Auto-consumption Guarnatee'].iloc[0, 3]\n",
    "    ACB = df[df['1'] == 'Auto-consumption Battery'].iloc[0, 3]\n",
    "    SCD = df[df['1'] == 'Social Cost Default'].iloc[0, 3]\n",
    "    SCB = df[df['1'] == 'Social Cost Battery'].iloc[0, 3]\n",
    "\n",
    "    df_ = df.iloc[5:, :].copy()\n",
    "    df_.columns = ['date', 'param', 'type', 'value']\n",
    "    #df_ = df_[df_['type'] == 'Total cost']\n",
    "    df_['relative_cost'] = df_.value / SCB\n",
    "    df_['relative_autocons'] = df_.value / ACB # with respect to battery\n",
    "\n",
    "    df_ = df_[df_['param'].isin(filter_sim.keys())]\n",
    "    \n",
    "    df_[df_['type'] == 'Total cost'].apply(\n",
    "        lambda x: results_cost[filter_sim[x.param]].append(x.relative_cost), axis=1)\n",
    "    \n",
    "    df_[df_['type'] == 'Auto-consumption'].apply(\n",
    "        lambda x: results_autocons[filter_sim[x.param]].append(x.relative_autocons), axis=1)\n",
    "    "
   ]
  },
  {
   "cell_type": "code",
   "execution_count": 7,
   "metadata": {},
   "outputs": [],
   "source": [
    "n_bins = 50\n",
    "fig, ax = plt.subplots(figsize=(8, 6))\n",
    "\n",
    "for k, v in results_cost.items():\n",
    "\n",
    "    ax.hist(results_cost[k], n_bins, cumulative=True, label=k,histtype='step', linewidth=1.5, density=True)\n",
    "    fix_hist_step_vertical_line_at_end(ax)\n",
    "ax.legend()\n",
    "ax.set_ylabel('Proportion of simulated days')\n",
    "ax.set_xlabel('Relative Social Cost')\n",
    "ax.grid(True)\n",
    "fig.savefig('/home/guso/Pictures/socialcost.pgf')"
   ]
  },
  {
   "cell_type": "code",
   "execution_count": 8,
   "metadata": {},
   "outputs": [],
   "source": [
    "n_bins = 50\n",
    "fig, ax = plt.subplots(figsize=(8, 6))\n",
    "\n",
    "for k, v in results_autocons.items():\n",
    "\n",
    "    ax.hist(results_autocons[k], n_bins, cumulative=True, label=k,histtype='step', linewidth=1.5, density=True)\n",
    "    fix_hist_step_vertical_line_at_end(ax)\n",
    "ax.legend()\n",
    "ax.set_ylabel('Proportion of simulated days')\n",
    "ax.set_xlabel('Relative Unmet Demand')\n",
    "ax.grid(True)\n",
    "\n",
    "fig.savefig('/home/guso/Pictures/autocons.pgf')"
   ]
  },
  {
   "cell_type": "code",
   "execution_count": null,
   "metadata": {},
   "outputs": [],
   "source": []
  }
 ],
 "metadata": {
  "kernelspec": {
   "display_name": "Python 3",
   "language": "python",
   "name": "python3"
  },
  "language_info": {
   "codemirror_mode": {
    "name": "ipython",
    "version": 3
   },
   "file_extension": ".py",
   "mimetype": "text/x-python",
   "name": "python",
   "nbconvert_exporter": "python",
   "pygments_lexer": "ipython3",
   "version": "3.7.3"
  }
 },
 "nbformat": 4,
 "nbformat_minor": 4
}
